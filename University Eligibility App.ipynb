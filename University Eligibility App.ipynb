{
 "cells": [
  {
   "cell_type": "code",
   "execution_count": 2,
   "id": "e85d5b09",
   "metadata": {},
   "outputs": [
    {
     "name": "stdout",
     "output_type": "stream",
     "text": [
      "Overwriting University_Eligibility_App.py\n"
     ]
    }
   ],
   "source": [
    "#%%writefile University_Eligibility_App.py\n",
    "\n",
    "#import streamlit as st\n",
    "\n",
    "#st.header(\"University Eligibility App\")"
   ]
  },
  {
   "cell_type": "code",
   "execution_count": 6,
   "id": "112e8f18",
   "metadata": {},
   "outputs": [
    {
     "name": "stdout",
     "output_type": "stream",
     "text": [
      "^C\n"
     ]
    }
   ],
   "source": [
    "!streamlit run University_Eligibility_App.py"
   ]
  },
  {
   "cell_type": "code",
   "execution_count": null,
   "id": "be8238f6",
   "metadata": {},
   "outputs": [],
   "source": []
  }
 ],
 "metadata": {
  "kernelspec": {
   "display_name": "Python 3 (ipykernel)",
   "language": "python",
   "name": "python3"
  },
  "language_info": {
   "codemirror_mode": {
    "name": "ipython",
    "version": 3
   },
   "file_extension": ".py",
   "mimetype": "text/x-python",
   "name": "python",
   "nbconvert_exporter": "python",
   "pygments_lexer": "ipython3",
   "version": "3.9.13"
  }
 },
 "nbformat": 4,
 "nbformat_minor": 5
}
